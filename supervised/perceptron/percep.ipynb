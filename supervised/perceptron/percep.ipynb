{
 "cells": [
  {
   "cell_type": "markdown",
   "metadata": {},
   "source": [
    "1. initialize weights and bias\n",
    "2. compute output f(x) for each sample\n",
    "3. compute error E\n",
    "4. repeat step 2 and 3 while E>threshold\n"
   ]
  },
  {
   "cell_type": "code",
   "execution_count": 138,
   "metadata": {},
   "outputs": [],
   "source": [
    "import numpy as np\n",
    "\n",
    "X = np.array([[0, 0], [0, 1], [1, 0], [1, 1]])\n",
    "y = np.array([0, 0, 0, 1])\n"
   ]
  },
  {
   "cell_type": "code",
   "execution_count": 139,
   "metadata": {},
   "outputs": [
    {
     "name": "stdout",
     "output_type": "stream",
     "text": [
      "[0.5, 0.3]\n"
     ]
    }
   ],
   "source": [
    "class Perceptron:\n",
    "    def __init__(self):\n",
    "        self.weights = []\n",
    "        self.bias = []\n",
    "\n",
    "p = Perceptron()\n",
    "p.weights = [0.5, 0.3]\n",
    "p.bias = 0.2\n",
    "\n",
    "print(p.weights)\n"
   ]
  },
  {
   "cell_type": "code",
   "execution_count": 140,
   "metadata": {},
   "outputs": [
    {
     "name": "stdout",
     "output_type": "stream",
     "text": [
      "[1 1]\n"
     ]
    }
   ],
   "source": [
    "test = X[3]\n",
    "print(test)"
   ]
  },
  {
   "cell_type": "markdown",
   "metadata": {},
   "source": [
    "### function\n",
    "\n",
    "f(t) = w1\\*t1 + w2+t2 + bias\n"
   ]
  },
  {
   "cell_type": "code",
   "execution_count": 141,
   "metadata": {},
   "outputs": [],
   "source": [
    "def func(weights, bias, test):\n",
    "    val = weights[0]*test[0] + weights[1]*test[1] + bias\n",
    "    return val"
   ]
  },
  {
   "cell_type": "code",
   "execution_count": 142,
   "metadata": {},
   "outputs": [
    {
     "data": {
      "text/plain": [
       "1.0"
      ]
     },
     "execution_count": 142,
     "metadata": {},
     "output_type": "execute_result"
    }
   ],
   "source": [
    "func(p.weights, p.bias, test)\n"
   ]
  },
  {
   "cell_type": "markdown",
   "metadata": {},
   "source": [
    "### error function\n"
   ]
  },
  {
   "cell_type": "code",
   "execution_count": 143,
   "metadata": {},
   "outputs": [
    {
     "name": "stdout",
     "output_type": "stream",
     "text": [
      "0.0975\n"
     ]
    }
   ],
   "source": [
    "error = 0\n",
    "\n",
    "for i in range(len(X)):\n",
    "    val = (y[i] - func(p.weights, p.bias, X[i]))**2\n",
    "    error += val\n",
    "current_error = (1 / (2*len(X))) * error\n",
    "print(current_error)\n",
    "    \n"
   ]
  }
 ],
 "metadata": {
  "kernelspec": {
   "display_name": "Python 3",
   "language": "python",
   "name": "python3"
  },
  "language_info": {
   "codemirror_mode": {
    "name": "ipython",
    "version": 3
   },
   "file_extension": ".py",
   "mimetype": "text/x-python",
   "name": "python",
   "nbconvert_exporter": "python",
   "pygments_lexer": "ipython3",
   "version": "3.9.6"
  }
 },
 "nbformat": 4,
 "nbformat_minor": 2
}
